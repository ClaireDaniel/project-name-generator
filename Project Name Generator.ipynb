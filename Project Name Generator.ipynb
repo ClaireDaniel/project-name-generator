{
 "cells": [
  {
   "cell_type": "code",
   "execution_count": 79,
   "metadata": {},
   "outputs": [],
   "source": [
    "# Import Packages\n",
    "import nltk\n",
    "from nltk.corpus import stopwords\n",
    "from nltk.corpus import words\n",
    "stopwords = stopwords.words('english')"
   ]
  },
  {
   "cell_type": "code",
   "execution_count": null,
   "metadata": {},
   "outputs": [],
   "source": [
    "# Edit sentance to generate name from\n",
    "sentance = \"Semi Automated Document Analysis Tool\""
   ]
  },
  {
   "cell_type": "code",
   "execution_count": 80,
   "metadata": {},
   "outputs": [],
   "source": [
    "# Calculate combinations\n",
    "word_list = sentance.split()\n",
    "word_list = [word.lower() for word in word_list if not word in stopwords]\n",
    "combinations = [i for i in itertools.product(*word_list)]\n",
    "combinations_len = len(combinations)"
   ]
  },
  {
   "cell_type": "code",
   "execution_count": 81,
   "metadata": {},
   "outputs": [],
   "source": [
    "#Print complete list of combinations\n",
    "for combo in combinations:\n",
    "    print(''.join(combo))"
   ]
  },
  {
   "cell_type": "code",
   "execution_count": 85,
   "metadata": {},
   "outputs": [
    {
     "name": "stdout",
     "output_type": "stream",
     "text": [
      "sault216\n",
      "stoat216\n",
      "stoat216\n",
      "stunt216\n",
      "stull216\n",
      "steal216\n",
      "stent216\n",
      "steno216\n",
      "steno216\n",
      "steal216\n",
      "stell216\n",
      "sodio216\n",
      "sodio216\n",
      "somal216\n",
      "somal216\n",
      "smolt9216\n",
      "smelt9216\n",
      "smell9216\n",
      "sault9216\n",
      "stoat9216\n",
      "stoat9216\n",
      "stunt9216\n",
      "stull9216\n",
      "steal9216\n",
      "stent9216\n",
      "steno9216\n",
      "steno9216\n",
      "steal9216\n",
      "stell9216\n",
      "senso9216\n",
      "senso9216\n",
      "senso9216\n",
      "senso9216\n",
      "setal9216\n",
      "setal9216\n",
      "macao9216\n",
      "macao9216\n",
      "macao9216\n",
      "macao9216\n",
      "manal9216\n",
      "manal9216\n",
      "manso9216\n",
      "manso9216\n",
      "manso9216\n",
      "manso9216\n",
      "modal9216\n",
      "modal9216\n",
      "moost9216\n",
      "moost9216\n",
      "mount9216\n",
      "monal9216\n",
      "monal9216\n",
      "macao9216\n",
      "macao9216\n",
      "macao9216\n",
      "macao9216\n",
      "manal9216\n",
      "manal9216\n",
      "manso9216\n",
      "manso9216\n",
      "manso9216\n",
      "manso9216\n",
      "medal9216\n",
      "medal9216\n",
      "medio9216\n",
      "medio9216\n",
      "metal9216\n",
      "metal9216\n",
      "immit9216\n",
      "iddat9216\n",
      "iddat9216\n",
      "ideal9216\n",
      "ideal9216\n",
      "9216/9216\r"
     ]
    }
   ],
   "source": [
    "# Select only words appearing in the english languale\n",
    "english_words = []\n",
    "\n",
    "i = 0\n",
    "for combo in combinations:\n",
    "    word = ''.join(combo)\n",
    "    result = word in words.words()\n",
    "    \n",
    "    if result == True:\n",
    "        \n",
    "        print(word end = \"\\r\")\n",
    "        english_words.append(word)\n",
    "        \n",
    "    i += 1\n",
    "    print(str(i) + \"/\" + str(combinations_len), end = \"\\r\")"
   ]
  },
  {
   "cell_type": "code",
   "execution_count": null,
   "metadata": {},
   "outputs": [],
   "source": []
  }
 ],
 "metadata": {
  "kernelspec": {
   "display_name": "Python 3",
   "language": "python",
   "name": "python3"
  },
  "language_info": {
   "codemirror_mode": {
    "name": "ipython",
    "version": 3
   },
   "file_extension": ".py",
   "mimetype": "text/x-python",
   "name": "python",
   "nbconvert_exporter": "python",
   "pygments_lexer": "ipython3",
   "version": "3.7.1"
  }
 },
 "nbformat": 4,
 "nbformat_minor": 2
}
